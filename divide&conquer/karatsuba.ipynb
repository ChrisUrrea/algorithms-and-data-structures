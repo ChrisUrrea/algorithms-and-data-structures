{
 "cells": [
  {
   "cell_type": "code",
   "execution_count": 9,
   "metadata": {
    "collapsed": true
   },
   "outputs": [],
   "source": [
    "def karatsuba(first, second):\n",
    "    \n",
    "    if ( len(str(first)) <= 20 or len(str(second)) <= 20 ):\n",
    "        return first * second\n",
    "    \n",
    "    else:\n",
    "        # get half cutoff point\n",
    "        length = max(len(str(first)), len(str(second)))\n",
    "        half = length / 2\n",
    "        \n",
    "        #split both numbers  into halves\n",
    "        a = first  / 10**half\n",
    "        b = first  % 10**half\n",
    "        c = second / 10**half\n",
    "        d = second % 10 **half\n",
    "        \n",
    "        #recurse down the karatsuba multiplication\n",
    "        ac = karatsuba(a, c)\n",
    "        bd = karatsuba(b, d)\n",
    "        ab_times_cd= karatsuba(a+b, c+d)\n",
    "        ad_plus_bc = ab_times_cd - ac - bd\n",
    "        \n",
    "        # Gauss's super genius trick\n",
    "        answer = ac * 10**(2*half) + (ad_plus_bc * 10**half) + bd\n",
    "        return answer"
   ]
  },
  {
   "cell_type": "code",
   "execution_count": 10,
   "metadata": {},
   "outputs": [
    {
     "data": {
      "text/plain": [
       "8.539734222673566e+126"
      ]
     },
     "execution_count": 10,
     "metadata": {},
     "output_type": "execute_result"
    }
   ],
   "source": [
    "karatsuba(3141592653589793238462643383279502884197169399375105820974944592, 2718281828459045235360287471352662497757247093699959574966967627)"
   ]
  },
  {
   "cell_type": "code",
   "execution_count": null,
   "metadata": {
    "collapsed": true
   },
   "outputs": [],
   "source": []
  }
 ],
 "metadata": {
  "kernelspec": {
   "display_name": "Python 3",
   "language": "python",
   "name": "python3"
  },
  "language_info": {
   "codemirror_mode": {
    "name": "ipython",
    "version": 3
   },
   "file_extension": ".py",
   "mimetype": "text/x-python",
   "name": "python",
   "nbconvert_exporter": "python",
   "pygments_lexer": "ipython3",
   "version": "3.6.4"
  }
 },
 "nbformat": 4,
 "nbformat_minor": 2
}
